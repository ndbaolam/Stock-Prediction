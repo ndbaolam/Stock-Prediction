{
 "cells": [
  {
   "cell_type": "code",
   "execution_count": 3,
   "metadata": {},
   "outputs": [],
   "source": [
    "from pyspark.sql import SparkSession\n",
    "from pyspark.sql import types as T\n",
    "from pyspark.sql import functions as F\n",
    "from pyspark.sql.window import Window\n",
    "import os\n",
    "import pandas as pd\n",
    "import matplotlib.pyplot as plt"
   ]
  },
  {
   "cell_type": "code",
   "execution_count": 2,
   "metadata": {},
   "outputs": [
    {
     "name": "stderr",
     "output_type": "stream",
     "text": [
      "Setting default log level to \"WARN\".\n",
      "To adjust logging level use sc.setLogLevel(newLevel). For SparkR, use setLogLevel(newLevel).\n",
      "25/04/19 23:26:25 WARN NativeCodeLoader: Unable to load native-hadoop library for your platform... using builtin-java classes where applicable\n"
     ]
    }
   ],
   "source": [
    "spark = SparkSession.builder \\\n",
    "        .appName(\"Stock Prediction\") \\\n",
    "        .master(\"local[*]\") \\\n",
    "        .config(\"spark.ui.port\", \"8080\") \\\n",
    "        .getOrCreate()"
   ]
  },
  {
   "cell_type": "code",
   "execution_count": 6,
   "metadata": {},
   "outputs": [],
   "source": [
    "schema = T.StructType([\n",
    "  T.StructField(\"datetime\", T.DateType()),\n",
    "  T.StructField(\"open\", T.DoubleType()),\n",
    "  T.StructField(\"high\", T.DoubleType()),\n",
    "  T.StructField(\"low\", T.DoubleType()),\n",
    "  T.StructField(\"close\", T.DoubleType()),\n",
    "  T.StructField(\"volume\", T.DoubleType()),\n",
    "  ])"
   ]
  },
  {
   "cell_type": "code",
   "execution_count": 7,
   "metadata": {},
   "outputs": [
    {
     "name": "stderr",
     "output_type": "stream",
     "text": [
      "                                                                                \r"
     ]
    }
   ],
   "source": [
    "df = spark.read \\\n",
    "    .format(\"csv\") \\\n",
    "    .option(\"header\", True) \\\n",
    "    .option(\"mode\", \"FAILFAST\") \\\n",
    "    .schema(schema) \\\n",
    "    .load(\"../data/raw/archive/D1/*.csv\")"
   ]
  },
  {
   "cell_type": "code",
   "execution_count": 11,
   "metadata": {},
   "outputs": [],
   "source": [
    "@F.udf(returnType=T.StringType())\n",
    "def get_basename(path):\n",
    "  filename = os.path.basename(path)\n",
    "  filename_without_ext = os.path.splitext(filename)[0]\n",
    "  return filename_without_ext.split('.')[0]\n",
    "\n",
    "df = df.withColumn(\"ticket_name\", get_basename(F.input_file_name()))"
   ]
  },
  {
   "cell_type": "code",
   "execution_count": null,
   "metadata": {},
   "outputs": [],
   "source": [
    "window_spec = Window.partitionBy(F.col(\"ticket_name\")).orderBy(F.col(\"ticket_name\"))"
   ]
  },
  {
   "cell_type": "code",
   "execution_count": null,
   "metadata": {},
   "outputs": [
    {
     "data": {
      "text/plain": [
       "DataFrame[datetime: date, open: double, high: double, low: double, close: double, volume: double, ticket_name: string, price_change: double, daily_return: double, log_return: double, TR: double]"
      ]
     },
     "execution_count": 35,
     "metadata": {},
     "output_type": "execute_result"
    }
   ],
   "source": [
    "df = df.withColumn(\"VMA\", F.avg(\"volumne\").over(window_spec.rowsBetween(-2, 0))) \\\n",
    "  .withColumn(\"vol_change\", (F.col(\"volume\") - F.lag(\"volume\").over(window_spec)) / F.lag(\"volume\").over(window_spec))\n",
    "\n",
    "@F.udf(returnType=T.DoubleType())\n",
    "def true_range(columns):\n",
    "  return max(columns)\n",
    "df = df.withColumn(\"TR\", \n",
    "              true_range(\n",
    "                F.col(\"high\") - F.col(\"low\"), \n",
    "                F.abs(F.col('high') - F.lag('close').over(window_spec)), \n",
    "                F.abs(F.col('low') - F.lag('close').over(window_spec))\n",
    "                ))"
   ]
  },
  {
   "cell_type": "code",
   "execution_count": 39,
   "metadata": {},
   "outputs": [],
   "source": [
    "df = df.withColumn(\"formatted_timestamp\", F.to_timestamp(\"datetime\", \"MM/dd/yyyy hh:mm:ss\")) \\\n",
    "  .withColumn(\"is_weekday\", (F.dayofweek(\"datetime\") >=2) & (F.dayofweek(\"datetime\") <= 6)) \\\n",
    "  .drop(\"datetime\")"
   ]
  },
  {
   "cell_type": "code",
   "execution_count": 8,
   "metadata": {},
   "outputs": [
    {
     "name": "stdout",
     "output_type": "stream",
     "text": [
      "root\n",
      " |-- datetime: date (nullable = true)\n",
      " |-- open: double (nullable = true)\n",
      " |-- high: double (nullable = true)\n",
      " |-- low: double (nullable = true)\n",
      " |-- close: double (nullable = true)\n",
      " |-- volume: double (nullable = true)\n",
      "\n"
     ]
    }
   ],
   "source": [
    "df.printSchema()"
   ]
  },
  {
   "cell_type": "code",
   "execution_count": 12,
   "metadata": {},
   "outputs": [
    {
     "name": "stderr",
     "output_type": "stream",
     "text": [
      "                                                                                \r"
     ]
    },
    {
     "data": {
      "text/html": [
       "<div>\n",
       "<style scoped>\n",
       "    .dataframe tbody tr th:only-of-type {\n",
       "        vertical-align: middle;\n",
       "    }\n",
       "\n",
       "    .dataframe tbody tr th {\n",
       "        vertical-align: top;\n",
       "    }\n",
       "\n",
       "    .dataframe thead th {\n",
       "        text-align: right;\n",
       "    }\n",
       "</style>\n",
       "<table border=\"1\" class=\"dataframe\">\n",
       "  <thead>\n",
       "    <tr style=\"text-align: right;\">\n",
       "      <th></th>\n",
       "      <th>datetime</th>\n",
       "      <th>open</th>\n",
       "      <th>high</th>\n",
       "      <th>low</th>\n",
       "      <th>close</th>\n",
       "      <th>volume</th>\n",
       "      <th>ticket_name</th>\n",
       "    </tr>\n",
       "  </thead>\n",
       "  <tbody>\n",
       "    <tr>\n",
       "      <th>0</th>\n",
       "      <td>1998-01-09</td>\n",
       "      <td>591.52</td>\n",
       "      <td>592.55</td>\n",
       "      <td>568.00</td>\n",
       "      <td>577.03</td>\n",
       "      <td>4933909.0</td>\n",
       "      <td>GE</td>\n",
       "    </tr>\n",
       "    <tr>\n",
       "      <th>1</th>\n",
       "      <td>1998-08-11</td>\n",
       "      <td>690.00</td>\n",
       "      <td>700.08</td>\n",
       "      <td>685.52</td>\n",
       "      <td>698.00</td>\n",
       "      <td>5337855.0</td>\n",
       "      <td>GE</td>\n",
       "    </tr>\n",
       "    <tr>\n",
       "      <th>2</th>\n",
       "      <td>1998-09-28</td>\n",
       "      <td>668.48</td>\n",
       "      <td>679.52</td>\n",
       "      <td>662.00</td>\n",
       "      <td>668.00</td>\n",
       "      <td>4987064.0</td>\n",
       "      <td>GE</td>\n",
       "    </tr>\n",
       "    <tr>\n",
       "      <th>3</th>\n",
       "      <td>1998-12-18</td>\n",
       "      <td>754.00</td>\n",
       "      <td>775.04</td>\n",
       "      <td>752.96</td>\n",
       "      <td>774.00</td>\n",
       "      <td>7380100.0</td>\n",
       "      <td>GE</td>\n",
       "    </tr>\n",
       "    <tr>\n",
       "      <th>4</th>\n",
       "      <td>1999-05-25</td>\n",
       "      <td>832.48</td>\n",
       "      <td>840.00</td>\n",
       "      <td>816.48</td>\n",
       "      <td>817.04</td>\n",
       "      <td>4931000.0</td>\n",
       "      <td>GE</td>\n",
       "    </tr>\n",
       "    <tr>\n",
       "      <th>...</th>\n",
       "      <td>...</td>\n",
       "      <td>...</td>\n",
       "      <td>...</td>\n",
       "      <td>...</td>\n",
       "      <td>...</td>\n",
       "      <td>...</td>\n",
       "      <td>...</td>\n",
       "    </tr>\n",
       "    <tr>\n",
       "      <th>28329</th>\n",
       "      <td>2023-11-01</td>\n",
       "      <td>18.58</td>\n",
       "      <td>18.90</td>\n",
       "      <td>18.41</td>\n",
       "      <td>18.90</td>\n",
       "      <td>9526253.0</td>\n",
       "      <td>KVUE</td>\n",
       "    </tr>\n",
       "    <tr>\n",
       "      <th>28330</th>\n",
       "      <td>2023-11-09</td>\n",
       "      <td>19.28</td>\n",
       "      <td>19.30</td>\n",
       "      <td>19.04</td>\n",
       "      <td>19.21</td>\n",
       "      <td>7747411.0</td>\n",
       "      <td>KVUE</td>\n",
       "    </tr>\n",
       "    <tr>\n",
       "      <th>28331</th>\n",
       "      <td>2024-01-24</td>\n",
       "      <td>20.87</td>\n",
       "      <td>20.98</td>\n",
       "      <td>20.41</td>\n",
       "      <td>20.44</td>\n",
       "      <td>9872708.0</td>\n",
       "      <td>KVUE</td>\n",
       "    </tr>\n",
       "    <tr>\n",
       "      <th>28332</th>\n",
       "      <td>2023-11-27</td>\n",
       "      <td>414.57</td>\n",
       "      <td>416.05</td>\n",
       "      <td>412.25</td>\n",
       "      <td>414.59</td>\n",
       "      <td>99769.0</td>\n",
       "      <td>EG</td>\n",
       "    </tr>\n",
       "    <tr>\n",
       "      <th>28333</th>\n",
       "      <td>2024-02-14</td>\n",
       "      <td>59.82</td>\n",
       "      <td>62.58</td>\n",
       "      <td>59.81</td>\n",
       "      <td>62.02</td>\n",
       "      <td>2162069.0</td>\n",
       "      <td>BALL</td>\n",
       "    </tr>\n",
       "  </tbody>\n",
       "</table>\n",
       "<p>28334 rows × 7 columns</p>\n",
       "</div>"
      ],
      "text/plain": [
       "         datetime    open    high     low   close     volume ticket_name\n",
       "0      1998-01-09  591.52  592.55  568.00  577.03  4933909.0          GE\n",
       "1      1998-08-11  690.00  700.08  685.52  698.00  5337855.0          GE\n",
       "2      1998-09-28  668.48  679.52  662.00  668.00  4987064.0          GE\n",
       "3      1998-12-18  754.00  775.04  752.96  774.00  7380100.0          GE\n",
       "4      1999-05-25  832.48  840.00  816.48  817.04  4931000.0          GE\n",
       "...           ...     ...     ...     ...     ...        ...         ...\n",
       "28329  2023-11-01   18.58   18.90   18.41   18.90  9526253.0        KVUE\n",
       "28330  2023-11-09   19.28   19.30   19.04   19.21  7747411.0        KVUE\n",
       "28331  2024-01-24   20.87   20.98   20.41   20.44  9872708.0        KVUE\n",
       "28332  2023-11-27  414.57  416.05  412.25  414.59    99769.0          EG\n",
       "28333  2024-02-14   59.82   62.58   59.81   62.02  2162069.0        BALL\n",
       "\n",
       "[28334 rows x 7 columns]"
      ]
     },
     "execution_count": 12,
     "metadata": {},
     "output_type": "execute_result"
    }
   ],
   "source": [
    "df_sample = df.sample(fraction=0.01).toPandas()\n",
    "df_sample"
   ]
  },
  {
   "cell_type": "code",
   "execution_count": 26,
   "metadata": {},
   "outputs": [],
   "source": [
    "aapl_df = df_sample.where(df_sample['ticket_name'] == 'AAPL').dropna()"
   ]
  },
  {
   "cell_type": "code",
   "execution_count": 35,
   "metadata": {},
   "outputs": [
    {
     "data": {
      "text/html": [
       "<div>\n",
       "<style scoped>\n",
       "    .dataframe tbody tr th:only-of-type {\n",
       "        vertical-align: middle;\n",
       "    }\n",
       "\n",
       "    .dataframe tbody tr th {\n",
       "        vertical-align: top;\n",
       "    }\n",
       "\n",
       "    .dataframe thead th {\n",
       "        text-align: right;\n",
       "    }\n",
       "</style>\n",
       "<table border=\"1\" class=\"dataframe\">\n",
       "  <thead>\n",
       "    <tr style=\"text-align: right;\">\n",
       "      <th></th>\n",
       "      <th>datetime</th>\n",
       "      <th>open</th>\n",
       "      <th>high</th>\n",
       "      <th>low</th>\n",
       "      <th>close</th>\n",
       "      <th>volume</th>\n",
       "      <th>ticket_name</th>\n",
       "    </tr>\n",
       "  </thead>\n",
       "  <tbody>\n",
       "    <tr>\n",
       "      <th>7404</th>\n",
       "      <td>1998-02-03</td>\n",
       "      <td>0.15</td>\n",
       "      <td>0.16</td>\n",
       "      <td>0.15</td>\n",
       "      <td>0.16</td>\n",
       "      <td>92486912.0</td>\n",
       "      <td>AAPL</td>\n",
       "    </tr>\n",
       "    <tr>\n",
       "      <th>7405</th>\n",
       "      <td>1998-05-19</td>\n",
       "      <td>0.25</td>\n",
       "      <td>0.26</td>\n",
       "      <td>0.25</td>\n",
       "      <td>0.26</td>\n",
       "      <td>52651256.0</td>\n",
       "      <td>AAPL</td>\n",
       "    </tr>\n",
       "    <tr>\n",
       "      <th>7406</th>\n",
       "      <td>1998-06-02</td>\n",
       "      <td>0.23</td>\n",
       "      <td>0.24</td>\n",
       "      <td>0.23</td>\n",
       "      <td>0.23</td>\n",
       "      <td>43151164.0</td>\n",
       "      <td>AAPL</td>\n",
       "    </tr>\n",
       "    <tr>\n",
       "      <th>7407</th>\n",
       "      <td>1998-08-05</td>\n",
       "      <td>0.30</td>\n",
       "      <td>0.32</td>\n",
       "      <td>0.29</td>\n",
       "      <td>0.32</td>\n",
       "      <td>105219296.0</td>\n",
       "      <td>AAPL</td>\n",
       "    </tr>\n",
       "    <tr>\n",
       "      <th>7408</th>\n",
       "      <td>1998-11-09</td>\n",
       "      <td>0.33</td>\n",
       "      <td>0.33</td>\n",
       "      <td>0.31</td>\n",
       "      <td>0.32</td>\n",
       "      <td>160484800.0</td>\n",
       "      <td>AAPL</td>\n",
       "    </tr>\n",
       "    <tr>\n",
       "      <th>7409</th>\n",
       "      <td>1999-02-26</td>\n",
       "      <td>0.32</td>\n",
       "      <td>0.33</td>\n",
       "      <td>0.30</td>\n",
       "      <td>0.31</td>\n",
       "      <td>159966800.0</td>\n",
       "      <td>AAPL</td>\n",
       "    </tr>\n",
       "    <tr>\n",
       "      <th>7410</th>\n",
       "      <td>1999-10-19</td>\n",
       "      <td>0.63</td>\n",
       "      <td>0.66</td>\n",
       "      <td>0.61</td>\n",
       "      <td>0.61</td>\n",
       "      <td>242846800.0</td>\n",
       "      <td>AAPL</td>\n",
       "    </tr>\n",
       "    <tr>\n",
       "      <th>7411</th>\n",
       "      <td>2000-01-24</td>\n",
       "      <td>0.96</td>\n",
       "      <td>1.00</td>\n",
       "      <td>0.93</td>\n",
       "      <td>0.94</td>\n",
       "      <td>99794800.0</td>\n",
       "      <td>AAPL</td>\n",
       "    </tr>\n",
       "    <tr>\n",
       "      <th>7412</th>\n",
       "      <td>2000-02-10</td>\n",
       "      <td>1.00</td>\n",
       "      <td>1.01</td>\n",
       "      <td>0.97</td>\n",
       "      <td>1.01</td>\n",
       "      <td>72965200.0</td>\n",
       "      <td>AAPL</td>\n",
       "    </tr>\n",
       "    <tr>\n",
       "      <th>7413</th>\n",
       "      <td>2000-02-15</td>\n",
       "      <td>1.02</td>\n",
       "      <td>1.07</td>\n",
       "      <td>1.02</td>\n",
       "      <td>1.06</td>\n",
       "      <td>116659200.0</td>\n",
       "      <td>AAPL</td>\n",
       "    </tr>\n",
       "  </tbody>\n",
       "</table>\n",
       "</div>"
      ],
      "text/plain": [
       "        datetime  open  high   low  close       volume ticket_name\n",
       "7404  1998-02-03  0.15  0.16  0.15   0.16   92486912.0        AAPL\n",
       "7405  1998-05-19  0.25  0.26  0.25   0.26   52651256.0        AAPL\n",
       "7406  1998-06-02  0.23  0.24  0.23   0.23   43151164.0        AAPL\n",
       "7407  1998-08-05  0.30  0.32  0.29   0.32  105219296.0        AAPL\n",
       "7408  1998-11-09  0.33  0.33  0.31   0.32  160484800.0        AAPL\n",
       "7409  1999-02-26  0.32  0.33  0.30   0.31  159966800.0        AAPL\n",
       "7410  1999-10-19  0.63  0.66  0.61   0.61  242846800.0        AAPL\n",
       "7411  2000-01-24  0.96  1.00  0.93   0.94   99794800.0        AAPL\n",
       "7412  2000-02-10  1.00  1.01  0.97   1.01   72965200.0        AAPL\n",
       "7413  2000-02-15  1.02  1.07  1.02   1.06  116659200.0        AAPL"
      ]
     },
     "execution_count": 35,
     "metadata": {},
     "output_type": "execute_result"
    }
   ],
   "source": [
    "aapl_df.head(10)"
   ]
  },
  {
   "cell_type": "code",
   "execution_count": 34,
   "metadata": {},
   "outputs": [
    {
     "data": {
      "image/png": "[encoded data removed]",
      "text/plain": [
       "<Figure size 1600x500 with 1 Axes>"
      ]
     },
     "metadata": {},
     "output_type": "display_data"
    }
   ],
   "source": [
    "def plot_df(df, x, y, title=\"\", xlabel='Date', ylabel='Value', dpi=100):\n",
    "  plt.figure(figsize=(16,5), dpi=dpi)\n",
    "  plt.plot(x, y, color='tab:red')\n",
    "  plt.gca().set(title=title, xlabel=xlabel, ylabel=ylabel)\n",
    "  plt.show()\n",
    "\n",
    "plot_df(aapl_df, x=aapl_df['datetime'], y=aapl_df['open'], title='APPLE')"
   ]
  }
 ],
 "metadata": {
  "kernelspec": {
   "display_name": "venv",
   "language": "python",
   "name": "python3"
  },
  "language_info": {
   "codemirror_mode": {
    "name": "ipython",
    "version": 3
   },
   "file_extension": ".py",
   "mimetype": "text/x-python",
   "name": "python",
   "nbconvert_exporter": "python",
   "pygments_lexer": "ipython3",
   "version": "3.10.12"
  }
 },
 "nbformat": 4,
 "nbformat_minor": 2
}
