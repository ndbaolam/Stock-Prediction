{
 "cells": [
  {
   "cell_type": "code",
   "execution_count": 58,
   "metadata": {},
   "outputs": [],
   "source": [
    "from pyspark.sql import SparkSession\n",
    "from pyspark.sql import types as T\n",
    "from pyspark.sql import functions as F\n",
    "from pyspark.sql.window import Window\n",
    "import os"
   ]
  },
  {
   "cell_type": "code",
   "execution_count": 5,
   "metadata": {},
   "outputs": [],
   "source": [
    "spark = SparkSession.builder \\\n",
    "        .appName(\"Stock Prediction\") \\\n",
    "        .master(\"local[*]\") \\\n",
    "        .config(\"spark.ui.port\", \"8080\") \\\n",
    "        .getOrCreate()"
   ]
  },
  {
   "cell_type": "code",
   "execution_count": 43,
   "metadata": {},
   "outputs": [],
   "source": [
    "schema = T.StructType([\n",
    "  T.StructField(\"datetime\", T.DateType()),\n",
    "  T.StructField(\"open\", T.DoubleType()),\n",
    "  T.StructField(\"high\", T.DoubleType()),\n",
    "  T.StructField(\"low\", T.DoubleType()),\n",
    "  T.StructField(\"close\", T.DoubleType()),\n",
    "  T.StructField(\"volume\", T.DoubleType()),\n",
    "  ])"
   ]
  },
  {
   "cell_type": "code",
   "execution_count": null,
   "metadata": {},
   "outputs": [
    {
     "name": "stderr",
     "output_type": "stream",
     "text": [
      "                                                                                \r"
     ]
    }
   ],
   "source": [
    "df = spark.read \\\n",
    "    .format(\"csv\") \\\n",
    "    .option(\"header\", True) \\\n",
    "    .option(\"mode\", \"FAILFAST\") \\\n",
    "    .schema(schema) \\\n",
    "    .load(\"../data/raw/archive/D1/*.csv\")"
   ]
  },
  {
   "cell_type": "code",
   "execution_count": 51,
   "metadata": {},
   "outputs": [],
   "source": [
    "@udf(returnType=T.StringType())\n",
    "def get_basename(path):\n",
    "  filename = os.path.basename(path)\n",
    "  filename_without_ext = os.path.splitext(filename)[0]\n",
    "  return filename_without_ext.split('.')[0]\n",
    "\n",
    "df = df.withColumn(\"ticket_name\", get_basename(F.input_file_name()))"
   ]
  },
  {
   "cell_type": "code",
   "execution_count": 59,
   "metadata": {},
   "outputs": [],
   "source": [
    "window_spec = Window.partitionBy(F.col(\"ticket_name\")).orderBy(F.col(\"ticket_name\"))"
   ]
  },
  {
   "cell_type": "code",
   "execution_count": 62,
   "metadata": {},
   "outputs": [],
   "source": [
    "df = df.withColumn(\"count\", F.count(F.col(\"ticket_name\")).over(window_spec))\n",
    "df = df.withColumn(\"dense_rank\", F.dense_rank().over(window_spec))"
   ]
  },
  {
   "cell_type": "code",
   "execution_count": 78,
   "metadata": {},
   "outputs": [
    {
     "data": {
      "text/plain": [
       "DataFrame[datetime: date, open: double, high: double, low: double, close: double, volume: double, ticket_name: string, count: bigint, dense_rank: int, SMA: double, RSI: double]"
      ]
     },
     "execution_count": 78,
     "metadata": {},
     "output_type": "execute_result"
    }
   ],
   "source": [
    "df = df.withColumn(\"SMA\", F.avg(F.col(\"close\")).over(window_spec))\n",
    "df.withColumn(\"delta\", F.col(\"close\") - F.lag(col=\"close\").over(window_spec)) \\\n",
    "  .withColumn(\"gain\", F.when(F.col(\"delta\") > 0, F.col(\"delta\")).otherwise(0)) \\\n",
    "  .withColumn(\"loss\", F.when(F.col(\"delta\") < 0, -F.col(\"delta\")).otherwise(0)) \\\n",
    "  .withColumn(\"average_gain\", F.avg(\"gain\").over(window_spec)) \\\n",
    "  .withColumn(\"average_loss\", F.avg(\"loss\").over(window_spec)) \\\n",
    "  .withColumn(\"RS\", F.col(\"average_gain\") / F.col(\"average_loss\")) \\\n",
    "  .withColumn(\"RSI\", 100 - 100/(F.col(\"RS\") + 1)) \\\n",
    "  .drop(\"delta\", \"gain\", \"loss\", \"average_gain\", \"average_loss\", \"RS\")  "
   ]
  }
 ],
 "metadata": {
  "kernelspec": {
   "display_name": "venv",
   "language": "python",
   "name": "python3"
  },
  "language_info": {
   "codemirror_mode": {
    "name": "ipython",
    "version": 3
   },
   "file_extension": ".py",
   "mimetype": "text/x-python",
   "name": "python",
   "nbconvert_exporter": "python",
   "pygments_lexer": "ipython3",
   "version": "3.10.12"
  }
 },
 "nbformat": 4,
 "nbformat_minor": 2
}
