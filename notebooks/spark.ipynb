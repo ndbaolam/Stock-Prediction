{
 "cells": [
  {
   "cell_type": "code",
   "execution_count": 34,
   "metadata": {},
   "outputs": [],
   "source": [
    "from pyspark.sql import SparkSession\n",
    "from pyspark.sql import types as T\n",
    "from pyspark.sql import functions as F\n",
    "from pyspark.sql.window import Window\n",
    "import os"
   ]
  },
  {
   "cell_type": "code",
   "execution_count": 2,
   "metadata": {},
   "outputs": [
    {
     "name": "stderr",
     "output_type": "stream",
     "text": [
      "Setting default log level to \"WARN\".\n",
      "To adjust logging level use sc.setLogLevel(newLevel). For SparkR, use setLogLevel(newLevel).\n",
      "25/04/02 00:18:15 WARN NativeCodeLoader: Unable to load native-hadoop library for your platform... using builtin-java classes where applicable\n"
     ]
    }
   ],
   "source": [
    "spark = SparkSession.builder \\\n",
    "        .appName(\"Stock Prediction\") \\\n",
    "        .master(\"local[*]\") \\\n",
    "        .config(\"spark.ui.port\", \"8080\") \\\n",
    "        .getOrCreate()"
   ]
  },
  {
   "cell_type": "code",
   "execution_count": 23,
   "metadata": {},
   "outputs": [],
   "source": [
    "schema = T.StructType([\n",
    "  T.StructField(\"datetime\", T.DateType()),\n",
    "  T.StructField(\"open\", T.DoubleType()),\n",
    "  T.StructField(\"high\", T.DoubleType()),\n",
    "  T.StructField(\"low\", T.DoubleType()),\n",
    "  T.StructField(\"close\", T.DoubleType()),\n",
    "  T.StructField(\"volume\", T.DoubleType()),\n",
    "  ])"
   ]
  },
  {
   "cell_type": "code",
   "execution_count": 24,
   "metadata": {},
   "outputs": [
    {
     "name": "stderr",
     "output_type": "stream",
     "text": [
      "                                                                                \r"
     ]
    }
   ],
   "source": [
    "df = spark.read \\\n",
    "    .format(\"csv\") \\\n",
    "    .option(\"header\", True) \\\n",
    "    .option(\"mode\", \"FAILFAST\") \\\n",
    "    .schema(schema) \\\n",
    "    .load(\"../data/raw/archive/D1/*.csv\")"
   ]
  },
  {
   "cell_type": "code",
   "execution_count": 25,
   "metadata": {},
   "outputs": [],
   "source": [
    "@F.udf(returnType=T.StringType())\n",
    "def get_basename(path):\n",
    "  filename = os.path.basename(path)\n",
    "  filename_without_ext = os.path.splitext(filename)[0]\n",
    "  return filename_without_ext.split('.')[0]\n",
    "\n",
    "df = df.withColumn(\"ticket_name\", get_basename(F.input_file_name()))"
   ]
  },
  {
   "cell_type": "code",
   "execution_count": null,
   "metadata": {},
   "outputs": [],
   "source": [
    "window_spec = Window.partitionBy(F.col(\"ticket_name\")).orderBy(F.col(\"ticket_name\"))"
   ]
  },
  {
   "cell_type": "code",
   "execution_count": 28,
   "metadata": {},
   "outputs": [],
   "source": [
    "df = df.withColumn(\"price_change\", F.col(\"close\") - F.lag(\"close\").over(window_spec)) \\\n",
    "  .withColumn(\"daily_return\", F.col(\"price_change\") / F.lag(\"close\").over(window_spec)) \\\n",
    "  .withColumn(\"log_return\", F.log(F.col(\"close\") / F.lag(\"close\").over(window_spec)))"
   ]
  },
  {
   "cell_type": "code",
   "execution_count": null,
   "metadata": {},
   "outputs": [
    {
     "data": {
      "text/plain": [
       "DataFrame[datetime: date, open: double, high: double, low: double, close: double, volume: double, ticket_name: string, price_change: double, daily_return: double, log_return: double, TR: double]"
      ]
     },
     "execution_count": 35,
     "metadata": {},
     "output_type": "execute_result"
    }
   ],
   "source": [
    "df = df.withColumn(\"VMA\", F.avg(\"volumne\").over(window_spec.rowsBetween(-2, 0))) \\\n",
    "  .withColumn(\"vol_change\", (F.col(\"volume\") - F.lag(\"volume\").over(window_spec)) / F.lag(\"volume\").over(window_spec))\n",
    "\n",
    "@F.udf(returnType=T.DoubleType())\n",
    "def true_range(columns):\n",
    "  return max(columns)\n",
    "df = df.withColumn(\"TR\", \n",
    "              true_range(\n",
    "                F.col(\"high\") - F.col(\"low\"), \n",
    "                F.abs(F.col('high') - F.lag('close').over(window_spec)), \n",
    "                F.abs(F.col('low') - F.lag('close').over(window_spec))\n",
    "                ))"
   ]
  },
  {
   "cell_type": "code",
   "execution_count": null,
   "metadata": {},
   "outputs": [],
   "source": [
    "df = df.withColumn(\"SMA\", F.avg(F.col(\"close\")).over(window_spec.rowsBetween(-2, 0))) # Last 3 days\n",
    "\n",
    "df = df.withColumn(\"delta\", F.col(\"close\") - F.lag(col=\"close\").over(window_spec)) \\\n",
    "  .withColumn(\"gain\", F.when(F.col(\"delta\") > 0, F.col(\"delta\")).otherwise(0)) \\\n",
    "  .withColumn(\"loss\", F.when(F.col(\"delta\") < 0, -F.col(\"delta\")).otherwise(0)) \\\n",
    "  .withColumn(\"average_gain\", F.avg(\"gain\").over(window_spec.rowsBetween(-3, 0))) \\\n",
    "  .withColumn(\"average_loss\", F.avg(\"loss\").over(window_spec.rowsBetween(-3, 0))) \\\n",
    "  .withColumn(\"RS\", F.col(\"average_gain\") / F.col(\"average_loss\")) \\\n",
    "  .withColumn(\"RSI\", 100 - 100/(F.col(\"RS\") + 1)) \\\n",
    "  .drop(\"delta\", \"gain\", \"loss\", \"average_gain\", \"average_loss\", \"RS\")  #RSI over 3 days"
   ]
  },
  {
   "cell_type": "code",
   "execution_count": 39,
   "metadata": {},
   "outputs": [],
   "source": [
    "df = df.withColumn(\"formatted_timestamp\", F.to_timestamp(\"datetime\", \"MM/dd/yyyy hh:mm:ss\")) \\\n",
    "  .withColumn(\"is_weekday\", (F.dayofweek(\"datetime\") >=2) & (F.dayofweek(\"datetime\") <= 6)) \\\n",
    "  .drop(\"datetime\")"
   ]
  },
  {
   "cell_type": "code",
   "execution_count": 44,
   "metadata": {},
   "outputs": [
    {
     "name": "stdout",
     "output_type": "stream",
     "text": [
      "root\n",
      " |-- open: double (nullable = true)\n",
      " |-- high: double (nullable = true)\n",
      " |-- low: double (nullable = true)\n",
      " |-- close: double (nullable = true)\n",
      " |-- volume: double (nullable = true)\n",
      " |-- ticket_name: string (nullable = true)\n",
      " |-- price_change: double (nullable = true)\n",
      " |-- daily_return: double (nullable = true)\n",
      " |-- log_return: double (nullable = true)\n",
      " |-- formatted_timestamp: timestamp (nullable = true)\n",
      " |-- is_weekday: boolean (nullable = true)\n",
      "\n"
     ]
    }
   ],
   "source": [
    "df.printSchema()"
   ]
  }
 ],
 "metadata": {
  "kernelspec": {
   "display_name": "venv",
   "language": "python",
   "name": "python3"
  },
  "language_info": {
   "codemirror_mode": {
    "name": "ipython",
    "version": 3
   },
   "file_extension": ".py",
   "mimetype": "text/x-python",
   "name": "python",
   "nbconvert_exporter": "python",
   "pygments_lexer": "ipython3",
   "version": "3.10.12"
  }
 },
 "nbformat": 4,
 "nbformat_minor": 2
}
